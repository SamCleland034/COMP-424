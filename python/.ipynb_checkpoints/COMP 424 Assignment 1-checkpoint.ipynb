{
 "cells": [
  {
   "cell_type": "markdown",
   "metadata": {},
   "source": [
    "# COMP 424 Assignment 1"
   ]
  },
  {
   "cell_type": "markdown",
   "metadata": {},
   "source": [
    "## Implement Hillclimbing"
   ]
  },
  {
   "cell_type": "code",
   "execution_count": 1,
   "metadata": {},
   "outputs": [],
   "source": [
    "import numpy as np\n",
    "import random\n",
    "import pandas as pd\n",
    "import matplotlib.pyplot as plt\n",
    "import copy\n",
    "\n",
    "def find_max(x, y, function, step = 0.01, lower_bound = 0, upper_bound = 10):\n",
    "    neighbors = [x - step, y - step, x - step, y + step, x + step, y - step, x + step, y + step, x, y - step, x, y + step, x - step, y, x + step, y]\n",
    "    maxi = function(x , y)\n",
    "    coordinates = [x , y]\n",
    "    for index in range(0, len(neighbors) - 1, 2): \n",
    "        result = function(neighbors[index], neighbors[index + 1])\n",
    "        if result > maxi and not(neighbors[index] <= lower_bound or neighbors[index] >= upper_bound or neighbors[index + 1] <= lower_bound or neighbors[index + 1] >= upper_bound):\n",
    "            maxi = result\n",
    "            coordinates = [neighbors[index], neighbors[index + 1]]\n",
    "    return maxi, coordinates\n",
    "\n",
    "        "
   ]
  },
  {
   "cell_type": "markdown",
   "metadata": {},
   "source": [
    "## Initialize Functions"
   ]
  },
  {
   "cell_type": "code",
   "execution_count": 2,
   "metadata": {},
   "outputs": [],
   "source": [
    "def function_one(x, y):\n",
    "    return np.sin(x / 2) + np.cos(y / 2)\n",
    "\n",
    "def function_two(x, y):\n",
    "    return -abs(x - 2) - abs(0.5 * y + 1) + 3"
   ]
  },
  {
   "cell_type": "code",
   "execution_count": 3,
   "metadata": {},
   "outputs": [],
   "source": [
    "def algorithm(init_x, init_y, function, step_size):\n",
    "    result_old = find_max(init_x, init_y, function, step_size)\n",
    "    iteration = 1\n",
    "    while True:\n",
    "        result = find_max(result_old[1][0], result_old[1][1], function, step_size)\n",
    "        if result[1][0] == result_old[1][0] and result[1][1] == result_old[1][1]:\n",
    "            return {'init_x' : init_x,'init_y': init_y,'max': result[0],'end_x': result[1][0], 'end_y': result[1][1], 'iteration': iteration}\n",
    "        result_old = result\n",
    "        iteration += 1\n",
    "    return None"
   ]
  },
  {
   "cell_type": "markdown",
   "metadata": {},
   "source": [
    "## Run Algorithm"
   ]
  },
  {
   "cell_type": "code",
   "execution_count": 4,
   "metadata": {},
   "outputs": [],
   "source": [
    "steps = [0.01, 0.05, 0.1, 0.2]\n",
    "results = []\n",
    "graph_plot_std = []\n",
    "graph_plot_mean = []\n",
    "for step in steps:\n",
    "    for i in range(0, 1000): \n",
    "        init_x = random.uniform(0 , 10)\n",
    "        init_y = random.uniform(0 , 10)\n",
    "        result = algorithm(init_x, init_y, function_one, step)\n",
    "        results.append(result)\n",
    "    results.append({'step': step})\n",
    "    frame = pd.DataFrame(data = results)\n",
    "    graph_plot_std.append(frame.std())\n",
    "    graph_plot_mean.append(frame.mean())"
   ]
  },
  {
   "cell_type": "code",
   "execution_count": 5,
   "metadata": {},
   "outputs": [
    {
     "data": {
      "text/plain": [
       "[<matplotlib.lines.Line2D at 0x2dffd094358>]"
      ]
     },
     "execution_count": 5,
     "metadata": {},
     "output_type": "execute_result"
    },
    {
     "data": {
      "image/png": "[encoded data removed]",
      "text/plain": [
       "<Figure size 432x288 with 1 Axes>"
      ]
     },
     "metadata": {},
     "output_type": "display_data"
    }
   ],
   "source": [
    "graph_frame_std = pd.DataFrame(data = graph_plot_std)\n",
    "graph_frame_mean = pd.DataFrame(data = graph_plot_mean)\n",
    "plt.xlabel(\"step size\")\n",
    "plt.ylabel(\"standard deviation\")\n",
    "plt.plot(steps, graph_frame_std.get('max'))"
   ]
  },
  {
   "cell_type": "code",
   "execution_count": 6,
   "metadata": {
    "scrolled": false
   },
   "outputs": [
    {
     "data": {
      "text/plain": [
       "end_x          3.542888\n",
       "end_y          3.648928\n",
       "init_x         5.039900\n",
       "init_y         4.969301\n",
       "iteration    124.760500\n",
       "max            1.614953\n",
       "dtype: float64"
      ]
     },
     "execution_count": 6,
     "metadata": {},
     "output_type": "execute_result"
    }
   ],
   "source": [
    "frame.mean()"
   ]
  },
  {
   "cell_type": "code",
   "execution_count": 7,
   "metadata": {},
   "outputs": [
    {
     "data": {
      "text/html": [
       "<div>\n",
       "<style scoped>\n",
       "    .dataframe tbody tr th:only-of-type {\n",
       "        vertical-align: middle;\n",
       "    }\n",
       "\n",
       "    .dataframe tbody tr th {\n",
       "        vertical-align: top;\n",
       "    }\n",
       "\n",
       "    .dataframe thead th {\n",
       "        text-align: right;\n",
       "    }\n",
       "</style>\n",
       "<table border=\"1\" class=\"dataframe\">\n",
       "  <thead>\n",
       "    <tr style=\"text-align: right;\">\n",
       "      <th></th>\n",
       "      <th>end_x</th>\n",
       "      <th>end_y</th>\n",
       "      <th>init_x</th>\n",
       "      <th>init_y</th>\n",
       "      <th>iteration</th>\n",
       "      <th>max</th>\n",
       "    </tr>\n",
       "  </thead>\n",
       "  <tbody>\n",
       "    <tr>\n",
       "      <th>0</th>\n",
       "      <td>1.589843</td>\n",
       "      <td>4.717558</td>\n",
       "      <td>2.947377</td>\n",
       "      <td>2.835765</td>\n",
       "      <td>157.809525</td>\n",
       "      <td>0.557008</td>\n",
       "    </tr>\n",
       "    <tr>\n",
       "      <th>1</th>\n",
       "      <td>1.619560</td>\n",
       "      <td>4.754706</td>\n",
       "      <td>2.924790</td>\n",
       "      <td>2.888267</td>\n",
       "      <td>189.973382</td>\n",
       "      <td>0.576440</td>\n",
       "    </tr>\n",
       "    <tr>\n",
       "      <th>2</th>\n",
       "      <td>1.647751</td>\n",
       "      <td>4.773873</td>\n",
       "      <td>2.917784</td>\n",
       "      <td>2.878724</td>\n",
       "      <td>178.779805</td>\n",
       "      <td>0.582479</td>\n",
       "    </tr>\n",
       "    <tr>\n",
       "      <th>3</th>\n",
       "      <td>1.606674</td>\n",
       "      <td>4.768108</td>\n",
       "      <td>2.908784</td>\n",
       "      <td>2.865608</td>\n",
       "      <td>166.670578</td>\n",
       "      <td>0.578149</td>\n",
       "    </tr>\n",
       "  </tbody>\n",
       "</table>\n",
       "</div>"
      ],
      "text/plain": [
       "      end_x     end_y    init_x    init_y   iteration       max\n",
       "0  1.589843  4.717558  2.947377  2.835765  157.809525  0.557008\n",
       "1  1.619560  4.754706  2.924790  2.888267  189.973382  0.576440\n",
       "2  1.647751  4.773873  2.917784  2.878724  178.779805  0.582479\n",
       "3  1.606674  4.768108  2.908784  2.865608  166.670578  0.578149"
      ]
     },
     "execution_count": 7,
     "metadata": {},
     "output_type": "execute_result"
    }
   ],
   "source": [
    "graph_frame_std\n"
   ]
  },
  {
   "cell_type": "code",
   "execution_count": 8,
   "metadata": {},
   "outputs": [
    {
     "data": {
      "text/html": [
       "<div>\n",
       "<style scoped>\n",
       "    .dataframe tbody tr th:only-of-type {\n",
       "        vertical-align: middle;\n",
       "    }\n",
       "\n",
       "    .dataframe tbody tr th {\n",
       "        vertical-align: top;\n",
       "    }\n",
       "\n",
       "    .dataframe thead th {\n",
       "        text-align: right;\n",
       "    }\n",
       "</style>\n",
       "<table border=\"1\" class=\"dataframe\">\n",
       "  <thead>\n",
       "    <tr style=\"text-align: right;\">\n",
       "      <th></th>\n",
       "      <th>end_x</th>\n",
       "      <th>end_y</th>\n",
       "      <th>init_x</th>\n",
       "      <th>init_y</th>\n",
       "      <th>iteration</th>\n",
       "      <th>max</th>\n",
       "    </tr>\n",
       "  </thead>\n",
       "  <tbody>\n",
       "    <tr>\n",
       "      <th>0</th>\n",
       "      <td>3.532284</td>\n",
       "      <td>3.351609</td>\n",
       "      <td>5.063934</td>\n",
       "      <td>4.869249</td>\n",
       "      <td>374.9730</td>\n",
       "      <td>1.647522</td>\n",
       "    </tr>\n",
       "    <tr>\n",
       "      <th>1</th>\n",
       "      <td>3.548503</td>\n",
       "      <td>3.499465</td>\n",
       "      <td>5.056728</td>\n",
       "      <td>4.894560</td>\n",
       "      <td>222.8465</td>\n",
       "      <td>1.630316</td>\n",
       "    </tr>\n",
       "    <tr>\n",
       "      <th>2</th>\n",
       "      <td>3.564679</td>\n",
       "      <td>3.603605</td>\n",
       "      <td>5.044762</td>\n",
       "      <td>4.945569</td>\n",
       "      <td>160.3210</td>\n",
       "      <td>1.615708</td>\n",
       "    </tr>\n",
       "    <tr>\n",
       "      <th>3</th>\n",
       "      <td>3.542888</td>\n",
       "      <td>3.648928</td>\n",
       "      <td>5.039900</td>\n",
       "      <td>4.969301</td>\n",
       "      <td>124.7605</td>\n",
       "      <td>1.614953</td>\n",
       "    </tr>\n",
       "  </tbody>\n",
       "</table>\n",
       "</div>"
      ],
      "text/plain": [
       "      end_x     end_y    init_x    init_y  iteration       max\n",
       "0  3.532284  3.351609  5.063934  4.869249   374.9730  1.647522\n",
       "1  3.548503  3.499465  5.056728  4.894560   222.8465  1.630316\n",
       "2  3.564679  3.603605  5.044762  4.945569   160.3210  1.615708\n",
       "3  3.542888  3.648928  5.039900  4.969301   124.7605  1.614953"
      ]
     },
     "execution_count": 8,
     "metadata": {},
     "output_type": "execute_result"
    }
   ],
   "source": [
    "graph_frame_mean"
   ]
  },
  {
   "cell_type": "markdown",
   "metadata": {},
   "source": [
    "## Local Beam Search Algorithm"
   ]
  },
  {
   "cell_type": "code",
   "execution_count": 9,
   "metadata": {},
   "outputs": [],
   "source": [
    "def local_beam_search(function, step = 0.01, beam_width = 2, lower_bound = 0, upper_bound = 10):\n",
    "    coords = []\n",
    "    for i in range(0, beam_width):\n",
    "        coords.append({'x' : random.randint(0, 10), 'y' : random.randint(0, 10)})\n",
    "    iteration = 0\n",
    "    neighbors = []\n",
    "    while True:\n",
    "        for i in range(0, beam_width):\n",
    "            neighbors.extend(get_neighbors(coords[i]['x'], coords[i]['y'], function, step, lower_bound, upper_bound))\n",
    "        \n",
    "        coords_temp = copy.deepcopy(coords)\n",
    "        coords.clear()\n",
    "        max_values = sorted(neighbors, key=lambda k: k['value'], reverse=True) \n",
    "        for i in range(0, beam_width):\n",
    "            coords.append(max_values[i])\n",
    "        done = True\n",
    "        for i in range(0, beam_width):\n",
    "            check = False;\n",
    "            for j in range(0, beam_width):\n",
    "                if coords[i]['x'] == coords_temp[j]['x'] and coords[i]['y'] == coords_temp[j]['y']:\n",
    "                    check = True\n",
    "                    break\n",
    "            if not check:\n",
    "                done = False\n",
    "                break;\n",
    "        if done:\n",
    "            coords[0]['iteration'] = iteration\n",
    "            return coords[0]\n",
    "        \n",
    "        iteration += 1\n",
    "        neighbors.clear()"
   ]
  },
  {
   "cell_type": "code",
   "execution_count": 10,
   "metadata": {},
   "outputs": [],
   "source": [
    "def get_neighbors(x, y, function, step, lower_bound, upper_bound):\n",
    "    results = []\n",
    "    neighbors = [x, y, x - step, y - step, x - step, y + step, x + step, y - step, x + step, y + step, x, y - step, x, y + step, x - step, y, x + step, y]\n",
    "    for i in range(0, len(neighbors), 2):\n",
    "        if neighbors[i] >= lower_bound and neighbors[i] <= upper_bound and neighbors[i + 1] >= lower_bound and neighbors[i + 1] <= upper_bound:\n",
    "            results.append({'x': neighbors[i], 'y': neighbors[i + 1], 'value': function(neighbors[i], neighbors[i + 1])})\n",
    "        \n",
    "    return results"
   ]
  },
  {
   "cell_type": "code",
   "execution_count": 11,
   "metadata": {},
   "outputs": [
    {
     "name": "stdout",
     "output_type": "stream",
     "text": [
      "{'x': 2.0000000000000013, 'y': 1.9675233664528946e-14, 'value': 1.999999999999989, 'iteration': 300}\n"
     ]
    }
   ],
   "source": [
    "print(local_beam_search(function_two, beam_width = 2))"
   ]
  },
  {
   "cell_type": "code",
   "execution_count": 12,
   "metadata": {},
   "outputs": [],
   "source": [
    "beam_results = []\n",
    "beam_widths = [2, 4, 8, 16]\n",
    "beam_data_std = []\n",
    "beam_data_mean = []\n",
    "for width in beam_widths:\n",
    "    for i in range(0, 100):\n",
    "        beam_results.append(local_beam_search(function_two, beam_width = 2, step=0.01))\n",
    "\n",
    "    beam_frame = pd.DataFrame(data = beam_results)\n",
    "    beam_data_std.append(beam_frame.std())\n",
    "    beam_data_mean.append(beam_frame.mean())"
   ]
  },
  {
   "cell_type": "code",
   "execution_count": 13,
   "metadata": {},
   "outputs": [
    {
     "data": {
      "text/plain": [
       "[<matplotlib.lines.Line2D at 0x2dffd0c1748>]"
      ]
     },
     "execution_count": 13,
     "metadata": {},
     "output_type": "execute_result"
    },
    {
     "data": {
      "image/png": "[encoded data removed]",
      "text/plain": [
       "<Figure size 432x288 with 1 Axes>"
      ]
     },
     "metadata": {},
     "output_type": "display_data"
    }
   ],
   "source": [
    "graph_plot_std = pd.DataFrame(data = beam_data_std)\n",
    "graph_plot_mean = pd.DataFrame(data = beam_data_mean)\n",
    "plt.xlabel(\"beam width\")\n",
    "plt.ylabel(\"standard deviation\")\n",
    "plt.plot(beam_widths, graph_plot_std.get('value'))"
   ]
  },
  {
   "cell_type": "code",
   "execution_count": 14,
   "metadata": {},
   "outputs": [
    {
     "data": {
      "text/plain": [
       "iteration    475.95000\n",
       "value          1.99875\n",
       "x              2.00000\n",
       "y              0.00250\n",
       "dtype: float64"
      ]
     },
     "execution_count": 14,
     "metadata": {},
     "output_type": "execute_result"
    }
   ],
   "source": [
    "beam_frame.mean()"
   ]
  },
  {
   "cell_type": "code",
   "execution_count": null,
   "metadata": {},
   "outputs": [],
   "source": []
  }
 ],
 "metadata": {
  "kernelspec": {
   "display_name": "Python 3",
   "language": "python",
   "name": "python3"
  },
  "language_info": {
   "codemirror_mode": {
    "name": "ipython",
    "version": 3
   },
   "file_extension": ".py",
   "mimetype": "text/x-python",
   "name": "python",
   "nbconvert_exporter": "python",
   "pygments_lexer": "ipython3",
   "version": "3.6.5"
  }
 },
 "nbformat": 4,
 "nbformat_minor": 2
}
