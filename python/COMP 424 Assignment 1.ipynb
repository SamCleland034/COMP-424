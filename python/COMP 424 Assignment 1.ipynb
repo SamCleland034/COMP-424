{
 "cells": [
  {
   "cell_type": "markdown",
   "metadata": {},
   "source": [
    "# COMP 424 Assignment 1"
   ]
  },
  {
   "cell_type": "markdown",
   "metadata": {},
   "source": [
    "## Implement Hillclimbing"
   ]
  },
  {
   "cell_type": "code",
   "execution_count": 41,
   "metadata": {},
   "outputs": [],
   "source": [
    "import numpy as np\n",
    "import random\n",
    "\n",
    "def find_max(x, y, function, step = 0.01, lower_bound = 0, upper_bound = 10):\n",
    "    neighbors = [x - step, y - step, x - step, y + step, x + step, y - step, x + step, y + step, x, y - step, x, y + step, x - step, y, x + step, y]\n",
    "    maxi = function(x , y)\n",
    "    coordinates = [x , y]\n",
    "    for index in range(0, len(neighbors) - 1, 2): \n",
    "        result = function(neighbors[index], neighbors[index + 1])\n",
    "        if result > maxi and not(neighbors[index] < lower_bound or neighbors[index] > upper_bound or neighbors[index + 1] < lower_bound or neighbors[index + 1] > upper_bound):\n",
    "            maxi = result\n",
    "            coordinates = [neighbors[index], neighbors[index + 1]]\n",
    "    return maxi, coordinates\n",
    "\n",
    "        "
   ]
  },
  {
   "cell_type": "markdown",
   "metadata": {},
   "source": [
    "## Initialize Functions"
   ]
  },
  {
   "cell_type": "code",
   "execution_count": 2,
   "metadata": {},
   "outputs": [],
   "source": [
    "def function_one(x, y):\n",
    "    return np.sin(x / 2) + np.cos(y / 2)"
   ]
  },
  {
   "cell_type": "code",
   "execution_count": 31,
   "metadata": {},
   "outputs": [],
   "source": [
    "def algorithm(init_x, init_y, function, step_size):\n",
    "    result = find_max(init_x, init_y, function, step_size)\n",
    "    for i in range(1, 100):\n",
    "        result = find_max(result[1][0], result[1][1], function, step_size)\n",
    "    return result"
   ]
  },
  {
   "cell_type": "markdown",
   "metadata": {},
   "source": [
    "## Run Algorithm"
   ]
  },
  {
   "cell_type": "code",
   "execution_count": 42,
   "metadata": {},
   "outputs": [
    {
     "name": "stdout",
     "output_type": "stream",
     "text": [
      "7 9\n",
      "(0.42478219352307267, [6.000000000000021, 9.999999999999979])\n"
     ]
    }
   ],
   "source": [
    "step = 0.01\n",
    "init_x = random.randint(0 , 10)\n",
    "init_y = random.randint(0 , 10)\n",
    "print(init_x, init_y)\n",
    "result = algorithm(init_x, init_y, function_one, step)\n",
    "print(result)"
   ]
  },
  {
   "cell_type": "code",
   "execution_count": null,
   "metadata": {},
   "outputs": [],
   "source": []
  }
 ],
 "metadata": {
  "kernelspec": {
   "display_name": "Python 3",
   "language": "python",
   "name": "python3"
  },
  "language_info": {
   "codemirror_mode": {
    "name": "ipython",
    "version": 3
   },
   "file_extension": ".py",
   "mimetype": "text/x-python",
   "name": "python",
   "nbconvert_exporter": "python",
   "pygments_lexer": "ipython3",
   "version": "3.6.5"
  }
 },
 "nbformat": 4,
 "nbformat_minor": 2
}
