{
 "cells": [
  {
   "cell_type": "markdown",
   "metadata": {},
   "source": [
    "# COMP 424 Assignment 1"
   ]
  },
  {
   "cell_type": "markdown",
   "metadata": {},
   "source": [
    "## Implement Hillclimbing"
   ]
  },
  {
   "cell_type": "code",
   "execution_count": 53,
   "metadata": {},
   "outputs": [],
   "source": [
    "import numpy as np\n",
    "import random\n",
    "import pandas as pd\n",
    "\n",
    "def find_max(x, y, function, step = 0.01, lower_bound = 0, upper_bound = 10):\n",
    "    neighbors = [x - step, y - step, x - step, y + step, x + step, y - step, x + step, y + step, x, y - step, x, y + step, x - step, y, x + step, y]\n",
    "    maxi = function(x , y)\n",
    "    coordinates = [x , y]\n",
    "    for index in range(0, len(neighbors) - 1, 2): \n",
    "        result = function(neighbors[index], neighbors[index + 1])\n",
    "        if result > maxi and not(neighbors[index] < lower_bound or neighbors[index] > upper_bound or neighbors[index + 1] < lower_bound or neighbors[index + 1] > upper_bound):\n",
    "            maxi = result\n",
    "            coordinates = [neighbors[index], neighbors[index + 1]]\n",
    "    return maxi, coordinates\n",
    "\n",
    "        "
   ]
  },
  {
   "cell_type": "markdown",
   "metadata": {},
   "source": [
    "## Initialize Functions"
   ]
  },
  {
   "cell_type": "code",
   "execution_count": 2,
   "metadata": {},
   "outputs": [],
   "source": [
    "def function_one(x, y):\n",
    "    return np.sin(x / 2) + np.cos(y / 2)"
   ]
  },
  {
   "cell_type": "code",
   "execution_count": 51,
   "metadata": {},
   "outputs": [],
   "source": [
    "def algorithm(init_x, init_y, function, step_size):\n",
    "    result_old = find_max(init_x, init_y, function, step_size)\n",
    "    iteration = 1\n",
    "    while True:\n",
    "        result = find_max(result_old[1][0], result_old[1][1], function, step_size)\n",
    "        if result[1][0] == result_old[1][0] and result[1][1] == result_old[1][1]:\n",
    "            return {'init_x' : init_x,'init_y': init_y,'max': result[0],'end_x': result[1][0], 'end_y': result[1][1], 'iteration': iteration}\n",
    "        result_old = result\n",
    "        iteration += 1\n",
    "    return None"
   ]
  },
  {
   "cell_type": "markdown",
   "metadata": {},
   "source": [
    "## Run Algorithm"
   ]
  },
  {
   "cell_type": "code",
   "execution_count": 56,
   "metadata": {},
   "outputs": [],
   "source": [
    "step = 0.01\n",
    "results = []\n",
    "for i in range(0, 100): \n",
    "    init_x = random.randint(0 , 10)\n",
    "    init_y = random.randint(0 , 10)\n",
    "    result = algorithm(init_x, init_y, function_one, step)\n",
    "    results.append(result)\n",
    "frame = pd.DataFrame(data = results)"
   ]
  },
  {
   "cell_type": "code",
   "execution_count": 60,
   "metadata": {},
   "outputs": [
    {
     "data": {
      "text/plain": [
       "end_x          1.759126\n",
       "end_y          4.724618\n",
       "init_x         3.151062\n",
       "init_y         2.953238\n",
       "iteration    156.956630\n",
       "max            0.621689\n",
       "dtype: float64"
      ]
     },
     "execution_count": 60,
     "metadata": {},
     "output_type": "execute_result"
    }
   ],
   "source": [
    "frame.std()"
   ]
  },
  {
   "cell_type": "code",
   "execution_count": null,
   "metadata": {},
   "outputs": [],
   "source": []
  }
 ],
 "metadata": {
  "kernelspec": {
   "display_name": "Python 3",
   "language": "python",
   "name": "python3"
  },
  "language_info": {
   "codemirror_mode": {
    "name": "ipython",
    "version": 3
   },
   "file_extension": ".py",
   "mimetype": "text/x-python",
   "name": "python",
   "nbconvert_exporter": "python",
   "pygments_lexer": "ipython3",
   "version": "3.6.5"
  }
 },
 "nbformat": 4,
 "nbformat_minor": 2
}
