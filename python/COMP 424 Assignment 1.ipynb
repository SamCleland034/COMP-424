{
 "cells": [
  {
   "cell_type": "markdown",
   "metadata": {},
   "source": [
    "# COMP 424 Assignment 1"
   ]
  },
  {
   "cell_type": "markdown",
   "metadata": {},
   "source": [
    "## Implement Hillclimbing"
   ]
  },
  {
   "cell_type": "code",
   "execution_count": 1,
   "metadata": {},
   "outputs": [],
   "source": [
    "import numpy as np\n",
    "import random\n",
    "import pandas as pd\n",
    "import copy\n",
    "\n",
    "def find_max(x, y, function, step = 0.01, lower_bound = 0, upper_bound = 10):\n",
    "    neighbors = [x - step, y - step, x - step, y + step, x + step, y - step, x + step, y + step, x, y - step, x, y + step, x - step, y, x + step, y]\n",
    "    maxi = function(x , y)\n",
    "    coordinates = [x , y]\n",
    "    for index in range(0, len(neighbors) - 1, 2): \n",
    "        result = function(neighbors[index], neighbors[index + 1])\n",
    "        if result > maxi and not(neighbors[index] < lower_bound or neighbors[index] > upper_bound or neighbors[index + 1] < lower_bound or neighbors[index + 1] > upper_bound):\n",
    "            maxi = result\n",
    "            coordinates = [neighbors[index], neighbors[index + 1]]\n",
    "    return maxi, coordinates\n",
    "\n",
    "        "
   ]
  },
  {
   "cell_type": "markdown",
   "metadata": {},
   "source": [
    "## Initialize Functions"
   ]
  },
  {
   "cell_type": "code",
   "execution_count": 2,
   "metadata": {},
   "outputs": [],
   "source": [
    "def function_one(x, y):\n",
    "    return np.sin(x / 2) + np.cos(y / 2)\n",
    "\n",
    "def function_two(x, y):\n",
    "    return -abs(x - 2) - abs(0.5 * y - 1) + 3"
   ]
  },
  {
   "cell_type": "code",
   "execution_count": 3,
   "metadata": {},
   "outputs": [],
   "source": [
    "def algorithm(init_x, init_y, function, step_size):\n",
    "    result_old = find_max(init_x, init_y, function, step_size)\n",
    "    iteration = 1\n",
    "    while True:\n",
    "        result = find_max(result_old[1][0], result_old[1][1], function, step_size)\n",
    "        if result[1][0] == result_old[1][0] and result[1][1] == result_old[1][1]:\n",
    "            return {'init_x' : init_x,'init_y': init_y,'max': result[0],'end_x': result[1][0], 'end_y': result[1][1], 'iteration': iteration}\n",
    "        result_old = result\n",
    "        iteration += 1\n",
    "    return None"
   ]
  },
  {
   "cell_type": "markdown",
   "metadata": {},
   "source": [
    "## Run Algorithm"
   ]
  },
  {
   "cell_type": "code",
   "execution_count": 4,
   "metadata": {},
   "outputs": [],
   "source": [
    "step = 0.01\n",
    "results = []\n",
    "for i in range(0, 100): \n",
    "    init_x = random.randint(0 , 10)\n",
    "    init_y = random.randint(0 , 10)\n",
    "    result = algorithm(init_x, init_y, function_one, step)\n",
    "    results.append(result)\n",
    "frame = pd.DataFrame(data = results)"
   ]
  },
  {
   "cell_type": "code",
   "execution_count": 5,
   "metadata": {},
   "outputs": [
    {
     "data": {
      "text/plain": [
       "end_x          1.637367\n",
       "end_y          4.604610\n",
       "init_x         3.170827\n",
       "init_y         3.078370\n",
       "iteration    164.715665\n",
       "max            0.577175\n",
       "dtype: float64"
      ]
     },
     "execution_count": 5,
     "metadata": {},
     "output_type": "execute_result"
    }
   ],
   "source": [
    "frame.std()"
   ]
  },
  {
   "cell_type": "code",
   "execution_count": 6,
   "metadata": {},
   "outputs": [
    {
     "data": {
      "text/plain": [
       "end_x          3.551600\n",
       "end_y          3.001600\n",
       "init_x         4.920000\n",
       "init_y         4.720000\n",
       "iteration    371.610000\n",
       "max            1.667561\n",
       "dtype: float64"
      ]
     },
     "execution_count": 6,
     "metadata": {},
     "output_type": "execute_result"
    }
   ],
   "source": [
    "frame.mean()"
   ]
  },
  {
   "cell_type": "markdown",
   "metadata": {},
   "source": [
    "## Local Beam Search Algorithm"
   ]
  },
  {
   "cell_type": "code",
   "execution_count": 28,
   "metadata": {},
   "outputs": [],
   "source": [
    "def local_beam_search(function, step = 0.01, beam_width = 2, lower_bound = 0, upper_bound = 10):\n",
    "    coords = []\n",
    "    for i in range(0, beam_width):\n",
    "        coords.append({'x' : random.randint(0, 10), 'y' : random.randint(0, 10)})\n",
    "    while True:\n",
    "        neighbors = []\n",
    "        for i in range(0, beam_width):\n",
    "            neighbors.extend(get_neighbors(coords[i]['x'], coords[i]['y'], function, step, lower_bound, upper_bound))\n",
    "        \n",
    "        coords_temp = copy.deepcopy(coords)\n",
    "        coords.clear()\n",
    "        max_values = sorted(neighbors, key=lambda k: k['value'], reverse=True) \n",
    "        for i in range(0, beam_width):\n",
    "            coords.append(max_values[i])\n",
    "        done = True\n",
    "        for i in range(0, beam_width):\n",
    "            check = False;\n",
    "            for j in range(0, beam_width):\n",
    "                if coords[i]['x'] == coords_temp[j]['x'] and coords[i]['y'] == coords_temp[j]['y']:\n",
    "                    check = True\n",
    "                    break\n",
    "            if not check:\n",
    "                done = False\n",
    "                break;\n",
    "        if done:\n",
    "            return sorted(coords, key= lambda k: k['value'], reverse=True)[0]\n",
    "        neighbors.clear()"
   ]
  },
  {
   "cell_type": "code",
   "execution_count": 29,
   "metadata": {},
   "outputs": [],
   "source": [
    "def get_neighbors(x, y, function, step, lower_bound, upper_bound):\n",
    "    results = []\n",
    "    neighbors = [x, y, x - step, y - step, x - step, y + step, x + step, y - step, x + step, y + step, x, y - step, x, y + step, x - step, y, x + step, y]\n",
    "    for i in range(0, len(neighbors), 2):\n",
    "        results.append({'x': neighbors[i], 'y': neighbors[i + 1], 'value': function(x, y)})\n",
    "        \n",
    "    return results"
   ]
  },
  {
   "cell_type": "code",
   "execution_count": 38,
   "metadata": {},
   "outputs": [
    {
     "name": "stdout",
     "output_type": "stream",
     "text": [
      "{'x': 0.07000000000008363, 'y': 3.0700000000001264, 'value': 0.07078153712394292}\n"
     ]
    }
   ],
   "source": [
    "print(local_beam_search(function_one))"
   ]
  },
  {
   "cell_type": "code",
   "execution_count": null,
   "metadata": {},
   "outputs": [],
   "source": []
  },
  {
   "cell_type": "code",
   "execution_count": null,
   "metadata": {},
   "outputs": [],
   "source": []
  }
 ],
 "metadata": {
  "kernelspec": {
   "display_name": "Python 3",
   "language": "python",
   "name": "python3"
  },
  "language_info": {
   "codemirror_mode": {
    "name": "ipython",
    "version": 3
   },
   "file_extension": ".py",
   "mimetype": "text/x-python",
   "name": "python",
   "nbconvert_exporter": "python",
   "pygments_lexer": "ipython3",
   "version": "3.6.5"
  }
 },
 "nbformat": 4,
 "nbformat_minor": 2
}
