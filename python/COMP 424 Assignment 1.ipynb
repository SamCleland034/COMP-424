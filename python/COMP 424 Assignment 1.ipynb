{
 "cells": [
  {
   "cell_type": "markdown",
   "metadata": {},
   "source": [
    "# COMP 424 Assignment 1"
   ]
  },
  {
   "cell_type": "markdown",
   "metadata": {},
   "source": [
    "## Implement Hillclimbing"
   ]
  },
  {
   "cell_type": "code",
   "execution_count": 1,
   "metadata": {},
   "outputs": [],
   "source": [
    "import numpy as np\n",
    "import random\n",
    "import pandas as pd\n",
    "import matplotlib.pyplot as plt\n",
    "import copy\n",
    "\n",
    "def find_max(x, y, function, step = 0.01, lower_bound = 0, upper_bound = 10):\n",
    "    neighbors = [x - step, y - step, x - step, y + step, x + step, y - step, x + step, y + step, x, y - step, x, y + step, x - step, y, x + step, y]\n",
    "    maxi = function(x , y)\n",
    "    coordinates = [x , y]\n",
    "    for index in range(0, len(neighbors) - 1, 2): \n",
    "        result = function(neighbors[index], neighbors[index + 1])\n",
    "        if result > maxi and not(neighbors[index] <= lower_bound or neighbors[index] >= upper_bound or neighbors[index + 1] <= lower_bound or neighbors[index + 1] >= upper_bound):\n",
    "            maxi = result\n",
    "            coordinates = [neighbors[index], neighbors[index + 1]]\n",
    "    return maxi, coordinates\n",
    "\n",
    "        "
   ]
  },
  {
   "cell_type": "markdown",
   "metadata": {},
   "source": [
    "## Initialize Functions"
   ]
  },
  {
   "cell_type": "code",
   "execution_count": 2,
   "metadata": {},
   "outputs": [],
   "source": [
    "def function_one(x, y):\n",
    "    return np.sin(x / 2) + np.cos(y / 2)\n",
    "\n",
    "def function_two(x, y):\n",
    "    return -abs(x - 2) - abs(0.5 * y + 1) + 3"
   ]
  },
  {
   "cell_type": "code",
   "execution_count": 3,
   "metadata": {},
   "outputs": [],
   "source": [
    "def algorithm(init_x, init_y, function, step_size):\n",
    "    result_old = find_max(init_x, init_y, function, step_size)\n",
    "    iteration = 1\n",
    "    while True:\n",
    "        result = find_max(result_old[1][0], result_old[1][1], function, step_size)\n",
    "        if result[1][0] == result_old[1][0] and result[1][1] == result_old[1][1]:\n",
    "            return {'init_x' : init_x,'init_y': init_y,'max': result[0],'end_x': result[1][0], 'end_y': result[1][1], 'iteration': iteration}\n",
    "        result_old = result\n",
    "        iteration += 1\n",
    "    return None"
   ]
  },
  {
   "cell_type": "markdown",
   "metadata": {},
   "source": [
    "## Run Algorithm"
   ]
  },
  {
   "cell_type": "code",
   "execution_count": 23,
   "metadata": {},
   "outputs": [],
   "source": [
    "steps = [0.01, 0.05, 0.1, 0.2]\n",
    "results = []\n",
    "graph_plot_std = []\n",
    "graph_plot_mean = []\n",
    "coordinates = []\n",
    "for j in range(0, 100):\n",
    "    coordinates.append({'x': random.uniform(0, 10), 'y': random.uniform(0, 10)})\n",
    "\n",
    "for step in steps:\n",
    "    for i in range(0, 100): \n",
    "        result = algorithm(coordinates[i]['x'], coordinates[i]['y'], function_two, step)\n",
    "        results.append(result)\n",
    "    frame = pd.DataFrame(data = results)\n",
    "    graph_plot_std.append(frame.std())\n",
    "    graph_plot_mean.append(frame.mean())"
   ]
  },
  {
   "cell_type": "code",
   "execution_count": 24,
   "metadata": {},
   "outputs": [
    {
     "data": {
      "text/plain": [
       "[<matplotlib.lines.Line2D at 0x2040aeb89e8>]"
      ]
     },
     "execution_count": 24,
     "metadata": {},
     "output_type": "execute_result"
    },
    {
     "data": {
      "image/png": "[encoded data removed]",
      "text/plain": [
       "<Figure size 432x288 with 1 Axes>"
      ]
     },
     "metadata": {},
     "output_type": "display_data"
    }
   ],
   "source": [
    "graph_frame_std = pd.DataFrame(index = steps, data = graph_plot_std)\n",
    "graph_frame_mean = pd.DataFrame(index = steps, data = graph_plot_mean)\n",
    "plt.xlabel(\"step size\")\n",
    "plt.ylabel(\"standard deviation\")\n",
    "plt.plot(steps, graph_frame_mean.get('max'))"
   ]
  },
  {
   "cell_type": "code",
   "execution_count": 7,
   "metadata": {
    "scrolled": false
   },
   "outputs": [
    {
     "data": {
      "text/plain": [
       "end_x          3.823538\n",
       "end_y          3.713353\n",
       "init_x         5.434663\n",
       "init_y         5.273578\n",
       "iteration    125.960000\n",
       "max            1.530248\n",
       "dtype: float64"
      ]
     },
     "execution_count": 7,
     "metadata": {},
     "output_type": "execute_result"
    }
   ],
   "source": [
    "frame.mean()"
   ]
  },
  {
   "cell_type": "code",
   "execution_count": 25,
   "metadata": {
    "scrolled": true
   },
   "outputs": [
    {
     "data": {
      "text/html": [
       "<div>\n",
       "<style scoped>\n",
       "    .dataframe tbody tr th:only-of-type {\n",
       "        vertical-align: middle;\n",
       "    }\n",
       "\n",
       "    .dataframe tbody tr th {\n",
       "        vertical-align: top;\n",
       "    }\n",
       "\n",
       "    .dataframe thead th {\n",
       "        text-align: right;\n",
       "    }\n",
       "</style>\n",
       "<table border=\"1\" class=\"dataframe\">\n",
       "  <thead>\n",
       "    <tr style=\"text-align: right;\">\n",
       "      <th></th>\n",
       "      <th>end_x</th>\n",
       "      <th>end_y</th>\n",
       "      <th>init_x</th>\n",
       "      <th>init_y</th>\n",
       "      <th>iteration</th>\n",
       "      <th>max</th>\n",
       "    </tr>\n",
       "  </thead>\n",
       "  <tbody>\n",
       "    <tr>\n",
       "      <th>0.01</th>\n",
       "      <td>0.002906</td>\n",
       "      <td>0.002854</td>\n",
       "      <td>2.784694</td>\n",
       "      <td>3.108259</td>\n",
       "      <td>268.005820</td>\n",
       "      <td>0.001954</td>\n",
       "    </tr>\n",
       "    <tr>\n",
       "      <th>0.05</th>\n",
       "      <td>0.010383</td>\n",
       "      <td>0.014549</td>\n",
       "      <td>2.777688</td>\n",
       "      <td>3.100440</td>\n",
       "      <td>303.589898</td>\n",
       "      <td>0.012332</td>\n",
       "    </tr>\n",
       "    <tr>\n",
       "      <th>0.10</th>\n",
       "      <td>0.018387</td>\n",
       "      <td>0.027190</td>\n",
       "      <td>2.775365</td>\n",
       "      <td>3.097846</td>\n",
       "      <td>283.995875</td>\n",
       "      <td>0.022738</td>\n",
       "    </tr>\n",
       "    <tr>\n",
       "      <th>0.20</th>\n",
       "      <td>0.032352</td>\n",
       "      <td>0.050977</td>\n",
       "      <td>2.774205</td>\n",
       "      <td>3.096552</td>\n",
       "      <td>264.448731</td>\n",
       "      <td>0.043059</td>\n",
       "    </tr>\n",
       "  </tbody>\n",
       "</table>\n",
       "</div>"
      ],
      "text/plain": [
       "         end_x     end_y    init_x    init_y   iteration       max\n",
       "0.01  0.002906  0.002854  2.784694  3.108259  268.005820  0.001954\n",
       "0.05  0.010383  0.014549  2.777688  3.100440  303.589898  0.012332\n",
       "0.10  0.018387  0.027190  2.775365  3.097846  283.995875  0.022738\n",
       "0.20  0.032352  0.050977  2.774205  3.096552  264.448731  0.043059"
      ]
     },
     "execution_count": 25,
     "metadata": {},
     "output_type": "execute_result"
    }
   ],
   "source": [
    "graph_frame_std\n"
   ]
  },
  {
   "cell_type": "code",
   "execution_count": 26,
   "metadata": {},
   "outputs": [
    {
     "data": {
      "text/html": [
       "<div>\n",
       "<style scoped>\n",
       "    .dataframe tbody tr th:only-of-type {\n",
       "        vertical-align: middle;\n",
       "    }\n",
       "\n",
       "    .dataframe tbody tr th {\n",
       "        vertical-align: top;\n",
       "    }\n",
       "\n",
       "    .dataframe thead th {\n",
       "        text-align: right;\n",
       "    }\n",
       "</style>\n",
       "<table border=\"1\" class=\"dataframe\">\n",
       "  <thead>\n",
       "    <tr style=\"text-align: right;\">\n",
       "      <th></th>\n",
       "      <th>end_x</th>\n",
       "      <th>end_y</th>\n",
       "      <th>init_x</th>\n",
       "      <th>init_y</th>\n",
       "      <th>iteration</th>\n",
       "      <th>max</th>\n",
       "    </tr>\n",
       "  </thead>\n",
       "  <tbody>\n",
       "    <tr>\n",
       "      <th>0.01</th>\n",
       "      <td>2.000108</td>\n",
       "      <td>0.004724</td>\n",
       "      <td>4.971408</td>\n",
       "      <td>5.060524</td>\n",
       "      <td>584.540000</td>\n",
       "      <td>1.995068</td>\n",
       "    </tr>\n",
       "    <tr>\n",
       "      <th>0.05</th>\n",
       "      <td>1.999758</td>\n",
       "      <td>0.015624</td>\n",
       "      <td>4.971408</td>\n",
       "      <td>5.060524</td>\n",
       "      <td>350.590000</td>\n",
       "      <td>1.984711</td>\n",
       "    </tr>\n",
       "    <tr>\n",
       "      <th>0.10</th>\n",
       "      <td>2.000975</td>\n",
       "      <td>0.028257</td>\n",
       "      <td>4.971408</td>\n",
       "      <td>5.060524</td>\n",
       "      <td>253.093333</td>\n",
       "      <td>1.972807</td>\n",
       "    </tr>\n",
       "    <tr>\n",
       "      <th>0.20</th>\n",
       "      <td>2.001083</td>\n",
       "      <td>0.047324</td>\n",
       "      <td>4.971408</td>\n",
       "      <td>5.060524</td>\n",
       "      <td>197.040000</td>\n",
       "      <td>1.954560</td>\n",
       "    </tr>\n",
       "  </tbody>\n",
       "</table>\n",
       "</div>"
      ],
      "text/plain": [
       "         end_x     end_y    init_x    init_y   iteration       max\n",
       "0.01  2.000108  0.004724  4.971408  5.060524  584.540000  1.995068\n",
       "0.05  1.999758  0.015624  4.971408  5.060524  350.590000  1.984711\n",
       "0.10  2.000975  0.028257  4.971408  5.060524  253.093333  1.972807\n",
       "0.20  2.001083  0.047324  4.971408  5.060524  197.040000  1.954560"
      ]
     },
     "execution_count": 26,
     "metadata": {},
     "output_type": "execute_result"
    }
   ],
   "source": [
    "graph_frame_mean"
   ]
  },
  {
   "cell_type": "markdown",
   "metadata": {},
   "source": [
    "## Local Beam Search Algorithm"
   ]
  },
  {
   "cell_type": "code",
   "execution_count": 10,
   "metadata": {},
   "outputs": [],
   "source": [
    "def local_beam_search(function, step = 0.01, beam_width = 2, lower_bound = 0, upper_bound = 10):\n",
    "    coords = []\n",
    "    for i in range(0, beam_width):\n",
    "        coords.append({'x' : random.randint(0, 10), 'y' : random.randint(0, 10)})\n",
    "    iteration = 0\n",
    "    neighbors = []\n",
    "    while True:\n",
    "        for i in range(0, beam_width):\n",
    "            neighbors.extend(get_neighbors(coords[i]['x'], coords[i]['y'], function, step, lower_bound, upper_bound))\n",
    "        \n",
    "        coords_temp = copy.deepcopy(coords)\n",
    "        coords.clear()\n",
    "        max_values = sorted(neighbors, key=lambda k: k['value'], reverse=True) \n",
    "        for i in range(0, beam_width):\n",
    "            coords.append(max_values[i])\n",
    "        done = True\n",
    "        for i in range(0, beam_width):\n",
    "            check = False;\n",
    "            for j in range(0, beam_width):\n",
    "                if coords[i]['x'] == coords_temp[j]['x'] and coords[i]['y'] == coords_temp[j]['y']:\n",
    "                    check = True\n",
    "                    break\n",
    "            if not check:\n",
    "                done = False\n",
    "                break;\n",
    "        if done:\n",
    "            coords[0]['iteration'] = iteration\n",
    "            return coords[0]\n",
    "        \n",
    "        iteration += 1\n",
    "        neighbors.clear()"
   ]
  },
  {
   "cell_type": "code",
   "execution_count": 11,
   "metadata": {},
   "outputs": [],
   "source": [
    "def get_neighbors(x, y, function, step, lower_bound, upper_bound):\n",
    "    results = []\n",
    "    neighbors = [x, y, x - step, y - step, x - step, y + step, x + step, y - step, x + step, y + step, x, y - step, x, y + step, x - step, y, x + step, y]\n",
    "    for i in range(0, len(neighbors), 2):\n",
    "        if neighbors[i] >= lower_bound and neighbors[i] <= upper_bound and neighbors[i + 1] >= lower_bound and neighbors[i + 1] <= upper_bound:\n",
    "            results.append({'x': neighbors[i], 'y': neighbors[i + 1], 'value': function(neighbors[i], neighbors[i + 1])})\n",
    "        \n",
    "    return results"
   ]
  },
  {
   "cell_type": "code",
   "execution_count": 12,
   "metadata": {},
   "outputs": [
    {
     "name": "stdout",
     "output_type": "stream",
     "text": [
      "{'x': 2.000000000000064, 'y': 1.9675233664528946e-14, 'value': 1.9999999999999263, 'iteration': 300}\n"
     ]
    }
   ],
   "source": [
    "print(local_beam_search(function_two, beam_width = 2))"
   ]
  },
  {
   "cell_type": "code",
   "execution_count": 35,
   "metadata": {},
   "outputs": [],
   "source": [
    "beam_results = []\n",
    "beam_widths = [2, 4, 8, 16]\n",
    "beam_data_std = []\n",
    "beam_data_mean = []\n",
    "for width in beam_widths:\n",
    "    for i in range(0, 100):\n",
    "        beam_results.append(local_beam_search(function_two, beam_width = 2, step=0.01))\n",
    "\n",
    "    beam_frame = pd.DataFrame(data = beam_results)\n",
    "    beam_data_std.append(beam_frame.std())\n",
    "    beam_data_mean.append(beam_frame.mean())"
   ]
  },
  {
   "cell_type": "code",
   "execution_count": 36,
   "metadata": {},
   "outputs": [
    {
     "data": {
      "text/plain": [
       "[<matplotlib.lines.Line2D at 0x2040afdcb38>]"
      ]
     },
     "execution_count": 36,
     "metadata": {},
     "output_type": "execute_result"
    },
    {
     "data": {
      "image/png": "[encoded data removed]",
      "text/plain": [
       "<Figure size 432x288 with 1 Axes>"
      ]
     },
     "metadata": {},
     "output_type": "display_data"
    }
   ],
   "source": [
    "graph_plot_std = pd.DataFrame(index = beam_widths, data = beam_data_std)\n",
    "graph_plot_mean = pd.DataFrame(index = beam_widths, data = beam_data_mean)\n",
    "plt.xlabel(\"beam width\")\n",
    "plt.ylabel(\"standard deviation\")\n",
    "plt.plot(beam_widths, graph_plot_std.get('value'))"
   ]
  },
  {
   "cell_type": "code",
   "execution_count": 32,
   "metadata": {},
   "outputs": [
    {
     "data": {
      "text/plain": [
       "iteration    291.220000\n",
       "value          1.711635\n",
       "x              3.397250\n",
       "y              3.002700\n",
       "dtype: float64"
      ]
     },
     "execution_count": 32,
     "metadata": {},
     "output_type": "execute_result"
    }
   ],
   "source": [
    "beam_frame.mean()"
   ]
  },
  {
   "cell_type": "code",
   "execution_count": 37,
   "metadata": {},
   "outputs": [
    {
     "data": {
      "text/html": [
       "<div>\n",
       "<style scoped>\n",
       "    .dataframe tbody tr th:only-of-type {\n",
       "        vertical-align: middle;\n",
       "    }\n",
       "\n",
       "    .dataframe tbody tr th {\n",
       "        vertical-align: top;\n",
       "    }\n",
       "\n",
       "    .dataframe thead th {\n",
       "        text-align: right;\n",
       "    }\n",
       "</style>\n",
       "<table border=\"1\" class=\"dataframe\">\n",
       "  <thead>\n",
       "    <tr style=\"text-align: right;\">\n",
       "      <th></th>\n",
       "      <th>iteration</th>\n",
       "      <th>value</th>\n",
       "      <th>x</th>\n",
       "      <th>y</th>\n",
       "    </tr>\n",
       "  </thead>\n",
       "  <tbody>\n",
       "    <tr>\n",
       "      <th>2</th>\n",
       "      <td>279.070886</td>\n",
       "      <td>0.002047</td>\n",
       "      <td>4.666601e-14</td>\n",
       "      <td>0.004094</td>\n",
       "    </tr>\n",
       "    <tr>\n",
       "      <th>4</th>\n",
       "      <td>257.911562</td>\n",
       "      <td>0.002059</td>\n",
       "      <td>4.808800e-14</td>\n",
       "      <td>0.004119</td>\n",
       "    </tr>\n",
       "    <tr>\n",
       "      <th>8</th>\n",
       "      <td>254.885460</td>\n",
       "      <td>0.002075</td>\n",
       "      <td>4.747623e-14</td>\n",
       "      <td>0.004149</td>\n",
       "    </tr>\n",
       "    <tr>\n",
       "      <th>16</th>\n",
       "      <td>252.715599</td>\n",
       "      <td>0.002048</td>\n",
       "      <td>4.702736e-14</td>\n",
       "      <td>0.004096</td>\n",
       "    </tr>\n",
       "  </tbody>\n",
       "</table>\n",
       "</div>"
      ],
      "text/plain": [
       "     iteration     value             x         y\n",
       "2   279.070886  0.002047  4.666601e-14  0.004094\n",
       "4   257.911562  0.002059  4.808800e-14  0.004119\n",
       "8   254.885460  0.002075  4.747623e-14  0.004149\n",
       "16  252.715599  0.002048  4.702736e-14  0.004096"
      ]
     },
     "execution_count": 37,
     "metadata": {},
     "output_type": "execute_result"
    }
   ],
   "source": [
    "graph_plot_std"
   ]
  },
  {
   "cell_type": "code",
   "execution_count": 38,
   "metadata": {},
   "outputs": [
    {
     "data": {
      "text/html": [
       "<div>\n",
       "<style scoped>\n",
       "    .dataframe tbody tr th:only-of-type {\n",
       "        vertical-align: middle;\n",
       "    }\n",
       "\n",
       "    .dataframe tbody tr th {\n",
       "        vertical-align: top;\n",
       "    }\n",
       "\n",
       "    .dataframe thead th {\n",
       "        text-align: right;\n",
       "    }\n",
       "</style>\n",
       "<table border=\"1\" class=\"dataframe\">\n",
       "  <thead>\n",
       "    <tr style=\"text-align: right;\">\n",
       "      <th></th>\n",
       "      <th>iteration</th>\n",
       "      <th>value</th>\n",
       "      <th>x</th>\n",
       "      <th>y</th>\n",
       "    </tr>\n",
       "  </thead>\n",
       "  <tbody>\n",
       "    <tr>\n",
       "      <th>2</th>\n",
       "      <td>478.920</td>\n",
       "      <td>1.998950</td>\n",
       "      <td>2.0</td>\n",
       "      <td>0.002100</td>\n",
       "    </tr>\n",
       "    <tr>\n",
       "      <th>4</th>\n",
       "      <td>478.945</td>\n",
       "      <td>1.998925</td>\n",
       "      <td>2.0</td>\n",
       "      <td>0.002150</td>\n",
       "    </tr>\n",
       "    <tr>\n",
       "      <th>8</th>\n",
       "      <td>493.620</td>\n",
       "      <td>1.998900</td>\n",
       "      <td>2.0</td>\n",
       "      <td>0.002200</td>\n",
       "    </tr>\n",
       "    <tr>\n",
       "      <th>16</th>\n",
       "      <td>493.710</td>\n",
       "      <td>1.998937</td>\n",
       "      <td>2.0</td>\n",
       "      <td>0.002125</td>\n",
       "    </tr>\n",
       "  </tbody>\n",
       "</table>\n",
       "</div>"
      ],
      "text/plain": [
       "    iteration     value    x         y\n",
       "2     478.920  1.998950  2.0  0.002100\n",
       "4     478.945  1.998925  2.0  0.002150\n",
       "8     493.620  1.998900  2.0  0.002200\n",
       "16    493.710  1.998937  2.0  0.002125"
      ]
     },
     "execution_count": 38,
     "metadata": {},
     "output_type": "execute_result"
    }
   ],
   "source": [
    "graph_plot_mean"
   ]
  },
  {
   "cell_type": "code",
   "execution_count": null,
   "metadata": {},
   "outputs": [],
   "source": []
  }
 ],
 "metadata": {
  "kernelspec": {
   "display_name": "Python 3",
   "language": "python",
   "name": "python3"
  },
  "language_info": {
   "codemirror_mode": {
    "name": "ipython",
    "version": 3
   },
   "file_extension": ".py",
   "mimetype": "text/x-python",
   "name": "python",
   "nbconvert_exporter": "python",
   "pygments_lexer": "ipython3",
   "version": "3.6.5"
  }
 },
 "nbformat": 4,
 "nbformat_minor": 2
}
